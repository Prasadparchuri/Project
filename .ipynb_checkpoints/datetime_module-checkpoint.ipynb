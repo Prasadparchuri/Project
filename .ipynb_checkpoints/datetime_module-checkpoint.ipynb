{
 "cells": [
  {
   "cell_type": "code",
   "execution_count": 1,
   "metadata": {},
   "outputs": [],
   "source": [
    "import datetime"
   ]
  },
  {
   "cell_type": "code",
   "execution_count": 4,
   "metadata": {},
   "outputs": [
    {
     "name": "stdout",
     "output_type": "stream",
     "text": [
      "2019-02-07 15:27:33.568761\n"
     ]
    }
   ],
   "source": [
    "currentdate = datetime.datetime.now()\n",
    "print(currentdate)"
   ]
  },
  {
   "cell_type": "code",
   "execution_count": 11,
   "metadata": {},
   "outputs": [
    {
     "name": "stdout",
     "output_type": "stream",
     "text": [
      "7\n",
      "2\n"
     ]
    }
   ],
   "source": [
    "currentdate = datetime.datetime.now()\n",
    "print(currentdate.day)\n",
    "print(currentdate.month)\n"
   ]
  },
  {
   "cell_type": "code",
   "execution_count": 25,
   "metadata": {},
   "outputs": [
    {
     "name": "stdout",
     "output_type": "stream",
     "text": [
      "Thu Feb  7 15:30:21 2019\n",
      "February\n"
     ]
    }
   ],
   "source": [
    "print(currentdate.strftime(\"%c\"))\n",
    "print(currentdate.strftime(\"%B\"))"
   ]
  },
  {
   "cell_type": "code",
   "execution_count": 61,
   "metadata": {},
   "outputs": [
    {
     "ename": "SyntaxError",
     "evalue": "unexpected EOF while parsing (<ipython-input-61-186f27455de2>, line 2)",
     "output_type": "error",
     "traceback": [
      "\u001b[0;36m  File \u001b[0;32m\"<ipython-input-61-186f27455de2>\"\u001b[0;36m, line \u001b[0;32m2\u001b[0m\n\u001b[0;31m    print(datetime.datetime(year,6,23,2,15,0)\u001b[0m\n\u001b[0m                                             ^\u001b[0m\n\u001b[0;31mSyntaxError\u001b[0m\u001b[0;31m:\u001b[0m unexpected EOF while parsing\n"
     ]
    }
   ],
   "source": [
    "year = input()\n",
    "print(datetime.datetime(year,6,23,2,15,0)"
   ]
  },
  {
   "cell_type": "code",
   "execution_count": 57,
   "metadata": {},
   "outputs": [
    {
     "name": "stdout",
     "output_type": "stream",
     "text": [
      "251 days, 15:44:27.539510\n",
      "21743067.53951\n",
      "<class 'datetime.timedelta'>\n",
      "21743067\n"
     ]
    }
   ],
   "source": [
    "start_date = datetime.datetime(2018, 6, 1)\n",
    "end_date = datetime.datetime.now()\n",
    "\n",
    "date_diff = end_date - start_date\n",
    "\n",
    "print(date_diff)\n",
    "print(date_diff.total_seconds())\n",
    "\n",
    "print(type(date_diff))\n",
    "\n",
    "import math\n",
    "print(math.floor(date_diff.total_seconds()))\n"
   ]
  }
 ],
 "metadata": {
  "kernelspec": {
   "display_name": "Python 3",
   "language": "python",
   "name": "python3"
  },
  "language_info": {
   "codemirror_mode": {
    "name": "ipython",
    "version": 3
   },
   "file_extension": ".py",
   "mimetype": "text/x-python",
   "name": "python",
   "nbconvert_exporter": "python",
   "pygments_lexer": "ipython3",
   "version": "3.7.1"
  }
 },
 "nbformat": 4,
 "nbformat_minor": 2
}
