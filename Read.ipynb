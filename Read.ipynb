{
 "cells": [
  {
   "cell_type": "markdown",
   "metadata": {},
   "source": [
    "# The most iconic line of code when learning how to program\n",
    "print(\"Hello World\")"
   ]
  },
  {
   "cell_type": "code",
   "execution_count": 1,
   "metadata": {},
   "outputs": [],
   "source": [
    "# Comments are represented by the pound symbol \"#\". \n",
    "# So these few lines are comments and will be ignored by the Python interpreter.\n",
    "# Comments are useful to document your code"
   ]
  },
  {
   "cell_type": "markdown",
   "metadata": {},
   "source": [
    "print(\"This sentence will print\") # This one will not"
   ]
  },
  {
   "cell_type": "code",
   "execution_count": 7,
   "metadata": {},
   "outputs": [
    {
     "name": "stdout",
     "output_type": "stream",
     "text": [
      "I have 78 boxes to move\n",
      "Remainder is  1\n"
     ]
    }
   ],
   "source": [
    "# Print multiple items: strings and numbers\n",
    "print(\"I have\", 78, \"boxes to move\")\n",
    "print(\"Remainder is \", 10 % 3) # % is the modulus operator"
   ]
  },
  {
   "cell_type": "code",
   "execution_count": 1,
   "metadata": {},
   "outputs": [
    {
     "name": "stdout",
     "output_type": "stream",
     "text": [
      "134\n"
     ]
    },
    {
     "data": {
      "text/plain": [
       "0.2"
      ]
     },
     "execution_count": 1,
     "metadata": {},
     "output_type": "execute_result"
    }
   ],
   "source": [
    "# Define variables using equality\n",
    "a = 134\n",
    "print(a)\n",
    "\n",
    "# Define multiple variables at once\n",
    "mu, sigma = 0, 0.2\n",
    "\n",
    "# See variable output\n",
    "sigma"
   ]
  },
  {
   "cell_type": "code",
   "execution_count": 9,
   "metadata": {},
   "outputs": [
    {
     "name": "stdout",
     "output_type": "stream",
     "text": [
      "134\n"
     ]
    }
   ],
   "source": [
    "# variables can be accessed from a different cell (variables are not actually attach to any cell)\n",
    "# As long as variables are in memory you can call and use them\n",
    "print(a)"
   ]
  },
  {
   "cell_type": "code",
   "execution_count": 10,
   "metadata": {},
   "outputs": [
    {
     "name": "stdout",
     "output_type": "stream",
     "text": [
      "2\n"
     ]
    }
   ],
   "source": [
    "# Re-define a variable\n",
    "a = 2\n",
    "print(a)\n",
    "\n",
    "# Now a changed its value"
   ]
  },
  {
   "cell_type": "code",
   "execution_count": 11,
   "metadata": {},
   "outputs": [
    {
     "ename": "SyntaxError",
     "evalue": "can't assign to literal (<ipython-input-11-cb8a09fb7cc7>, line 2)",
     "output_type": "error",
     "traceback": [
      "\u001b[0;36m  File \u001b[0;32m\"<ipython-input-11-cb8a09fb7cc7>\"\u001b[0;36m, line \u001b[0;32m2\u001b[0m\n\u001b[0;31m    1 = \"a\"\u001b[0m\n\u001b[0m           ^\u001b[0m\n\u001b[0;31mSyntaxError\u001b[0m\u001b[0;31m:\u001b[0m can't assign to literal\n"
     ]
    }
   ],
   "source": [
    "# Student question: Can we define 1 = a? or 1 = \"a\"\n",
    "1 = \"a\"\n",
    "\n",
    "# The answer is no. Variable names must start with a letter or an underscore"
   ]
  },
  {
   "cell_type": "code",
   "execution_count": 3,
   "metadata": {},
   "outputs": [
    {
     "name": "stdout",
     "output_type": "stream",
     "text": [
      "There are 50 cars and remain only 15 sits available.\n",
      "There are 50 cars and remain only 15 sits available.\n"
     ]
    },
    {
     "ename": "TypeError",
     "evalue": "can only concatenate str (not \"float\") to str",
     "output_type": "error",
     "traceback": [
      "\u001b[0;31m---------------------------------------------------------------------------\u001b[0m",
      "\u001b[0;31mTypeError\u001b[0m                                 Traceback (most recent call last)",
      "\u001b[0;32m<ipython-input-3-34b27421614b>\u001b[0m in \u001b[0;36m<module>\u001b[0;34m\u001b[0m\n\u001b[1;32m      9\u001b[0m \u001b[0mprint\u001b[0m\u001b[0;34m(\u001b[0m\u001b[0;34m\"There are\"\u001b[0m\u001b[0;34m,\u001b[0m \u001b[0mcars\u001b[0m\u001b[0;34m,\u001b[0m \u001b[0;34m\"cars and remain only\"\u001b[0m\u001b[0;34m,\u001b[0m \u001b[0msits_available\u001b[0m \u001b[0;34m,\u001b[0m \u001b[0;34m\"sits available.\"\u001b[0m\u001b[0;34m)\u001b[0m\u001b[0;34m\u001b[0m\u001b[0;34m\u001b[0m\u001b[0m\n\u001b[1;32m     10\u001b[0m \u001b[0mprint\u001b[0m\u001b[0;34m(\u001b[0m\u001b[0;34m\"There are \"\u001b[0m \u001b[0;34m+\u001b[0m \u001b[0mstr\u001b[0m\u001b[0;34m(\u001b[0m\u001b[0mcars\u001b[0m\u001b[0;34m)\u001b[0m \u001b[0;34m+\u001b[0m \u001b[0;34m\" cars and remain only \"\u001b[0m \u001b[0;34m+\u001b[0m \u001b[0mstr\u001b[0m\u001b[0;34m(\u001b[0m\u001b[0msits_available\u001b[0m\u001b[0;34m)\u001b[0m \u001b[0;34m+\u001b[0m \u001b[0;34m\" sits available.\"\u001b[0m\u001b[0;34m)\u001b[0m\u001b[0;34m\u001b[0m\u001b[0;34m\u001b[0m\u001b[0m\n\u001b[0;32m---> 11\u001b[0;31m \u001b[0mprint\u001b[0m\u001b[0;34m(\u001b[0m\u001b[0;34m\"There are \"\u001b[0m \u001b[0;34m+\u001b[0m \u001b[0mfloat\u001b[0m\u001b[0;34m(\u001b[0m\u001b[0mcars\u001b[0m\u001b[0;34m)\u001b[0m \u001b[0;34m+\u001b[0m \u001b[0;34m\" cars and remain only \"\u001b[0m \u001b[0;34m+\u001b[0m \u001b[0mfloat\u001b[0m\u001b[0;34m(\u001b[0m\u001b[0msits_available\u001b[0m\u001b[0;34m)\u001b[0m \u001b[0;34m+\u001b[0m \u001b[0;34m\" sits available.\"\u001b[0m\u001b[0;34m)\u001b[0m\u001b[0;34m\u001b[0m\u001b[0;34m\u001b[0m\u001b[0m\n\u001b[0m",
      "\u001b[0;31mTypeError\u001b[0m: can only concatenate str (not \"float\") to str"
     ]
    }
   ],
   "source": [
    "# Python as a calculator\n",
    "cars = 50\n",
    "sits_per_car = 4\n",
    "carpool_capacity = cars * sits_per_car\n",
    "passengers = 185\n",
    "sits_available = carpool_capacity - passengers\n",
    "\n",
    "# Multiple ways of printing the output\n",
    "print(\"There are\", cars, \"cars and remain only\", sits_available , \"sits available.\")\n",
    "print(\"There are \" + str(cars) + \" cars and remain only \" + str(sits_available) + \" sits available.\")\n",
    "print(\"There are \" + float(cars) + \" cars and remain only \" + float(sits_available) + \" sits available.\")"
   ]
  },
  {
   "cell_type": "code",
   "execution_count": 4,
   "metadata": {},
   "outputs": [
    {
     "name": "stdout",
     "output_type": "stream",
     "text": [
      "My height is 182.88 cm\n",
      "My height is 182.9 cm\n"
     ]
    }
   ],
   "source": [
    "# Body height conversion\n",
    "height_inches = 72 # inches\n",
    "height_cm = height_inches * 2.54\n",
    "print(\"My height is\",height_cm,\"cm\")\n",
    "print(\"My height is\",round(height_cm,1),\"cm\")"
   ]
  },
  {
   "cell_type": "code",
   "execution_count": 5,
   "metadata": {},
   "outputs": [],
   "source": [
    "# Student question: Why do we need to separate inputs by commas?\n",
    "# Answer: It allows you to detach strings from variables and allows you to pass variables\n",
    "# already defined in memory."
   ]
  },
  {
   "cell_type": "code",
   "execution_count": 16,
   "metadata": {},
   "outputs": [
    {
     "name": "stdout",
     "output_type": "stream",
     "text": [
      "<class 'str'>\n",
      "<class 'float'>\n",
      "<class 'int'>\n"
     ]
    }
   ],
   "source": [
    "# Data types\n",
    "print(type(\"hello world\"))\n",
    "print(type(4.0))\n",
    "print(type(4))"
   ]
  },
  {
   "cell_type": "code",
   "execution_count": 17,
   "metadata": {},
   "outputs": [
    {
     "name": "stdout",
     "output_type": "stream",
     "text": [
      "7\n",
      "-1\n",
      "12\n",
      "0.75\n",
      "81\n",
      "2\n"
     ]
    }
   ],
   "source": [
    "# The last part of this notebook consists of simple arithmetic operations\n",
    "# In python we can store information in the form of variables.\n",
    "# We use variables so that we can use useful information in later steps. For instance:\n",
    "\n",
    "print(3 + 4)\n",
    "print(3 - 4)\n",
    "print(3 * 4)\n",
    "print(3 / 4)\n",
    "print(3**4)\n",
    "print(10 % 4)\n",
    "\n",
    "# This case is trivial and we could have easily wrote c = 1 + 3, but often times we deal with\n",
    "# multiple values (arrays) or extensive datasets, in which case we use variables."
   ]
  },
  {
   "cell_type": "code",
   "execution_count": 18,
   "metadata": {},
   "outputs": [],
   "source": [
    "# PROBLEM\n",
    "\n",
    "# Given two positive integers a and b\n",
    "# Return the integer corresponding to the square of the hypotenuse of the right triangle \n",
    "# whose legs have lengths a and b.\n",
    "\n",
    "# For instance, if a=3 and b=5, the result should be 34\n",
    "\n",
    "# Hint: define a and b as two separate variables. A function would be better."
   ]
  },
  {
   "cell_type": "code",
   "execution_count": 23,
   "metadata": {},
   "outputs": [
    {
     "name": "stdout",
     "output_type": "stream",
     "text": [
      "5.830951894845301\n"
     ]
    }
   ],
   "source": [
    "# Solution\n",
    "\n",
    "a = 3\n",
    "b = 5\n",
    "result = (a**2 + b**2)**0.5\n",
    "print(result)"
   ]
  },
  {
   "cell_type": "code",
   "execution_count": 2,
   "metadata": {},
   "outputs": [
    {
     "name": "stdout",
     "output_type": "stream",
     "text": [
      "[1, 2, 3]\n"
     ]
    },
    {
     "data": {
      "text/plain": [
       "list"
      ]
     },
     "execution_count": 2,
     "metadata": {},
     "output_type": "execute_result"
    }
   ],
   "source": [
    "# Lists (also known as arrays, they are mutable)\n",
    "\n",
    "mylist = [1,2,3]  # A row vector\n",
    "print(mylist)\n",
    "type(mylist)\n",
    "\n",
    "# What happens if you replace one of the list elements above by another element?\n",
    "# Can you mix words with numbers?\n",
    "# Can you nest multiple lists?"
   ]
  },
  {
   "cell_type": "code",
   "execution_count": 4,
   "metadata": {},
   "outputs": [],
   "source": [
    "# Lists are mutable, we can re-define them\n",
    "mylist = [2000,2001,2002]"
   ]
  },
  {
   "cell_type": "code",
   "execution_count": 5,
   "metadata": {},
   "outputs": [
    {
     "name": "stdout",
     "output_type": "stream",
     "text": [
      "2000\n",
      "['apple', 'orange']\n",
      "apple\n"
     ]
    }
   ],
   "source": [
    "# Lists can be nested\n",
    "mylist = [2000,2001,2002,2003,['apple','orange']]\n",
    "print(mylist[0])\n",
    "print(mylist[4])\n",
    "print(mylist[4][0])"
   ]
  },
  {
   "cell_type": "code",
   "execution_count": 7,
   "metadata": {},
   "outputs": [
    {
     "name": "stdout",
     "output_type": "stream",
     "text": [
      "apple\n"
     ]
    }
   ],
   "source": [
    "# Copy and save part of the list in a different variable\n",
    "fruits = mylist[4]\n",
    "print(fruits[0])"
   ]
  },
  {
   "cell_type": "code",
   "execution_count": null,
   "metadata": {},
   "outputs": [],
   "source": [
    "# List methods\n",
    "print(mylist.count(2000)) # Count specific element. Takes only one argument\n",
    "mylist.index(2001) \n",
    "mylist.append([2003,2004])\n",
    "print(mylist)"
   ]
  },
  {
   "cell_type": "code",
   "execution_count": 18,
   "metadata": {},
   "outputs": [
    {
     "data": {
      "text/plain": [
       "0"
      ]
     },
     "execution_count": 18,
     "metadata": {},
     "output_type": "execute_result"
    }
   ],
   "source": [
    "# Will this work?\n",
    "mylist.count('apple')\n",
    "\n",
    "# Solution: mylist[4].count('apple')"
   ]
  },
  {
   "cell_type": "code",
   "execution_count": 19,
   "metadata": {},
   "outputs": [
    {
     "name": "stdout",
     "output_type": "stream",
     "text": [
      "[]\n"
     ]
    }
   ],
   "source": [
    "# Clear list and check that list was cleared (it should print empty brackets)\n",
    "mylist.clear()\n",
    "print(mylist)"
   ]
  },
  {
   "cell_type": "code",
   "execution_count": 20,
   "metadata": {},
   "outputs": [
    {
     "name": "stdout",
     "output_type": "stream",
     "text": [
      "[[1, 4, 5], [-5, 8, 9]]\n"
     ]
    }
   ],
   "source": [
    "# Creating a matrix or 2D array\n",
    "M = [[1, 4, 5],\n",
    "    [-5, 8, 9]]\n",
    "print(M)"
   ]
  },
  {
   "cell_type": "code",
   "execution_count": 28,
   "metadata": {},
   "outputs": [
    {
     "name": "stdout",
     "output_type": "stream",
     "text": [
      "<class 'str'>\n",
      "<class 'list'>\n",
      "['h', 'o', 'n']\n",
      "['h', 'o', 'n']\n",
      "['h', 'o']\n"
     ]
    }
   ],
   "source": [
    "# Slicing\n",
    "# Source: https://stackoverflow.com/questions/509211/understanding-slice-notation\n",
    "\n",
    "#                +---+---+---+---+---+---+\n",
    "#                 | P | y | t | h | o | n |\n",
    "#                 +---+---+---+---+---+---+\n",
    "# Slice position: 0   1   2   3   4   5   6\n",
    "# Index position:   0   1   2   3   4   5\n",
    "\n",
    "# sliceable[start:stop:step]\n",
    "\n",
    "# Definitions\n",
    "# start: the beginning index of the slice, it will include the element at this index unless \n",
    "# it is the same as stop, defaults to 0, i.e. the first index. If it's negative, it means to \n",
    "# start n items from the end.\n",
    "\n",
    "# stop: the ending index of the slice, it does not include the element at this index, \n",
    "# defaults to length of the sequence being sliced, that is, up to and including the end.\n",
    "\n",
    "# step: the amount by which the index increases, defaults to 1. \n",
    "# If it's negative, you're slicing over the iterable in reverse.\n",
    "\n",
    "p = ['P','y','t','h','o','n']\n",
    "\n",
    "# Why the two sets of numbers:\n",
    "# indexing gives items, not lists\n",
    "p[0]\n",
    "p[5]\n",
    "print(type(p[5]))\n",
    "\n",
    "# Slicing gives lists\n",
    "p[0:1]\n",
    "p[0:2]\n",
    "print(type(p[0:2]))\n",
    "\n",
    "# Get last 3 letters\n",
    "print(p[-3:]) # This means: \"3rd from the end, to the end.\"\n",
    "\n",
    "# Technically this is what is going on behind the Python interpreter\n",
    "# sliceable[start:stop:step]\n",
    "print(p[-3:len(p):1])\n",
    "\n",
    "# The colon is what tells Python you're giving it a slice and not a regular index. \n",
    "\n",
    "# \n",
    "print(p[-3:-1]) # This will not return the last element. You can use -1 for indexing. \n",
    "# Since this is a slicing operation we need to use the : operator"
   ]
  },
  {
   "cell_type": "code",
   "execution_count": 29,
   "metadata": {},
   "outputs": [
    {
     "name": "stdout",
     "output_type": "stream",
     "text": [
      "{'T', 'A', 'G'}\n",
      "{'T', 'C', 'A', 'G'}\n"
     ]
    },
    {
     "data": {
      "text/plain": [
       "{'C'}"
      ]
     },
     "execution_count": 29,
     "metadata": {},
     "output_type": "execute_result"
    }
   ],
   "source": [
    "dna1 = set('ATTTGAATTA') # DNA sequence 1\n",
    "dna2 = set('GGATTCGCGT') # DNA sequence 2\n",
    "\n",
    "# Print unique bases in each DNA sequence\n",
    "print(dna1)\n",
    "print(dna2)\n",
    "\n",
    "dna1 - dna2   # bases in dna1 BUT NOT in dna2\n",
    "dna1 | dna2   # bases in dna1 OR in dna2\n",
    "dna1 & dna2   # bases in dna1 AND in dna2\n",
    "dna1 ^ dna2   # bases in dna1 OR dna2, BUT NOT BOTH"
   ]
  },
  {
   "cell_type": "code",
   "execution_count": 31,
   "metadata": {},
   "outputs": [
    {
     "name": "stdout",
     "output_type": "stream",
     "text": [
      "[True, True, False, True]\n",
      "True\n"
     ]
    }
   ],
   "source": [
    "# Boolean\n",
    "myBool = [True,True,False,True]\n",
    "print(myBool)\n",
    "print(myBool[0])"
   ]
  }
 ],
 "metadata": {
  "kernelspec": {
   "display_name": "Python 3",
   "language": "python",
   "name": "python3"
  },
  "language_info": {
   "codemirror_mode": {
    "name": "ipython",
    "version": 3
   },
   "file_extension": ".py",
   "mimetype": "text/x-python",
   "name": "python",
   "nbconvert_exporter": "python",
   "pygments_lexer": "ipython3",
   "version": "3.7.1"
  }
 },
 "nbformat": 4,
 "nbformat_minor": 2
}
