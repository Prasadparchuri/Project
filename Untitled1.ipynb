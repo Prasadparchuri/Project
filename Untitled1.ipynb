{
 "cells": [
  {
   "cell_type": "markdown",
   "metadata": {},
   "source": [
    "# The most iconic line of code when learning how to program\n",
    "print(\"Hello World\")"
   ]
  },
  {
   "cell_type": "code",
   "execution_count": 3,
   "metadata": {},
   "outputs": [],
   "source": [
    "# Comments are represented by the pound symbol \"#\". \n",
    "# So these few lines are comments and will be ignored by the Python interpreter.\n",
    "# Comments are useful to document your code"
   ]
  },
  {
   "cell_type": "code",
   "execution_count": 6,
   "metadata": {},
   "outputs": [
    {
     "name": "stdout",
     "output_type": "stream",
     "text": [
      "This sentence will print\n"
     ]
    }
   ],
   "source": [
    "print(\"This sentence will print\") # This one will not"
   ]
  },
  {
   "cell_type": "code",
   "execution_count": 7,
   "metadata": {},
   "outputs": [
    {
     "name": "stdout",
     "output_type": "stream",
     "text": [
      "I have 78 boxes to move\n",
      "Remainder is  1\n"
     ]
    }
   ],
   "source": [
    "# Print multiple items: strings and numbers\n",
    "print(\"I have\", 78, \"boxes to move\")\n",
    "print(\"Remainder is \", 10 % 3) # % is the modulus operator"
   ]
  },
  {
   "cell_type": "code",
   "execution_count": 8,
   "metadata": {},
   "outputs": [
    {
     "name": "stdout",
     "output_type": "stream",
     "text": [
      "134\n"
     ]
    },
    {
     "data": {
      "text/plain": [
       "0"
      ]
     },
     "execution_count": 8,
     "metadata": {},
     "output_type": "execute_result"
    }
   ],
   "source": [
    "# Define variables using equality\n",
    "a = 134\n",
    "print(a)\n",
    "\n",
    "# Define multiple variables at once\n",
    "mu, sigma = 0, 0.2\n",
    "\n",
    "# See variable output\n",
    "mu"
   ]
  },
  {
   "cell_type": "code",
   "execution_count": 9,
   "metadata": {},
   "outputs": [
    {
     "name": "stdout",
     "output_type": "stream",
     "text": [
      "134\n"
     ]
    }
   ],
   "source": [
    "# variables can be accessed from a different cell (variables are not actually attach to any cell)\n",
    "# As long as variables are in memory you can call and use them\n",
    "print(a)"
   ]
  },
  {
   "cell_type": "code",
   "execution_count": 10,
   "metadata": {},
   "outputs": [
    {
     "name": "stdout",
     "output_type": "stream",
     "text": [
      "2\n"
     ]
    }
   ],
   "source": [
    "# Re-define a variable\n",
    "a = 2\n",
    "print(a)\n",
    "\n",
    "# Now a changed its value"
   ]
  },
  {
   "cell_type": "code",
   "execution_count": 11,
   "metadata": {},
   "outputs": [
    {
     "ename": "SyntaxError",
     "evalue": "can't assign to literal (<ipython-input-11-cb8a09fb7cc7>, line 2)",
     "output_type": "error",
     "traceback": [
      "\u001b[0;36m  File \u001b[0;32m\"<ipython-input-11-cb8a09fb7cc7>\"\u001b[0;36m, line \u001b[0;32m2\u001b[0m\n\u001b[0;31m    1 = \"a\"\u001b[0m\n\u001b[0m           ^\u001b[0m\n\u001b[0;31mSyntaxError\u001b[0m\u001b[0;31m:\u001b[0m can't assign to literal\n"
     ]
    }
   ],
   "source": [
    "# Student question: Can we define 1 = a? or 1 = \"a\"\n",
    "1 = \"a\"\n",
    "\n",
    "# The answer is no. Variable names must start with a letter or an underscore"
   ]
  },
  {
   "cell_type": "code",
   "execution_count": 13,
   "metadata": {},
   "outputs": [
    {
     "name": "stdout",
     "output_type": "stream",
     "text": [
      "There are 50 cars and remain only 15 sits available.\n",
      "There are 50 cars and remain only 15 sits available.\n"
     ]
    }
   ],
   "source": [
    "# Python as a calculator\n",
    "cars = 50\n",
    "sits_per_car = 4\n",
    "carpool_capacity = cars * sits_per_car\n",
    "passengers = 185\n",
    "sits_available = carpool_capacity - passengers\n",
    "\n",
    "# Multiple ways of printing the output\n",
    "print(\"There are\", cars, \"cars and remain only\", sits_available , \"sits available.\")\n",
    "print(\"There are \" + str(cars) + \" cars and remain only \" + str(sits_available) + \" sits available.\")"
   ]
  },
  {
   "cell_type": "code",
   "execution_count": 14,
   "metadata": {},
   "outputs": [
    {
     "name": "stdout",
     "output_type": "stream",
     "text": [
      "My height is 182.88 cm\n",
      "My height is 182.9 cm\n"
     ]
    }
   ],
   "source": [
    "# Body height conversion\n",
    "height_inches = 72 # inches\n",
    "height_cm = height_inches * 2.54\n",
    "print(\"My height is\",height_cm,\"cm\")\n",
    "print(\"My height is\",round(height_cm,1),\"cm\")"
   ]
  },
  {
   "cell_type": "code",
   "execution_count": 15,
   "metadata": {},
   "outputs": [],
   "source": [
    "# Student question: Why do we need to separate inputs by commas?\n",
    "# Answer: It allows you to detach strings from variables and allows you to pass variables\n",
    "# already defined in memory."
   ]
  },
  {
   "cell_type": "code",
   "execution_count": 16,
   "metadata": {},
   "outputs": [
    {
     "name": "stdout",
     "output_type": "stream",
     "text": [
      "<class 'str'>\n",
      "<class 'float'>\n",
      "<class 'int'>\n"
     ]
    }
   ],
   "source": [
    "# Data types\n",
    "print(type(\"hello world\"))\n",
    "print(type(4.0))\n",
    "print(type(4))"
   ]
  },
  {
   "cell_type": "code",
   "execution_count": 17,
   "metadata": {},
   "outputs": [
    {
     "name": "stdout",
     "output_type": "stream",
     "text": [
      "7\n",
      "-1\n",
      "12\n",
      "0.75\n",
      "81\n",
      "2\n"
     ]
    }
   ],
   "source": [
    "# The last part of this notebook consists of simple arithmetic operations\n",
    "# In python we can store information in the form of variables.\n",
    "# We use variables so that we can use useful information in later steps. For instance:\n",
    "\n",
    "print(3 + 4)\n",
    "print(3 - 4)\n",
    "print(3 * 4)\n",
    "print(3 / 4)\n",
    "print(3**4)\n",
    "print(10 % 4)\n",
    "\n",
    "# This case is trivial and we could have easily wrote c = 1 + 3, but often times we deal with\n",
    "# multiple values (arrays) or extensive datasets, in which case we use variables."
   ]
  },
  {
   "cell_type": "code",
   "execution_count": 18,
   "metadata": {},
   "outputs": [],
   "source": [
    "# PROBLEM\n",
    "\n",
    "# Given two positive integers a and b\n",
    "# Return the integer corresponding to the square of the hypotenuse of the right triangle \n",
    "# whose legs have lengths a and b.\n",
    "\n",
    "# For instance, if a=3 and b=5, the result should be 34\n",
    "\n",
    "# Hint: define a and b as two separate variables. A function would be better."
   ]
  },
  {
   "cell_type": "code",
   "execution_count": 23,
   "metadata": {},
   "outputs": [
    {
     "name": "stdout",
     "output_type": "stream",
     "text": [
      "5.830951894845301\n"
     ]
    }
   ],
   "source": [
    "# Solution\n",
    "\n",
    "a = 3\n",
    "b = 5\n",
    "result = (a**2 + b**2)**0.5\n",
    "print(result)"
   ]
  },
  {
   "cell_type": "code",
   "execution_count": null,
   "metadata": {},
   "outputs": [],
   "source": []
  }
 ],
 "metadata": {
  "kernelspec": {
   "display_name": "Python 3",
   "language": "python",
   "name": "python3"
  },
  "language_info": {
   "codemirror_mode": {
    "name": "ipython",
    "version": 3
   },
   "file_extension": ".py",
   "mimetype": "text/x-python",
   "name": "python",
   "nbconvert_exporter": "python",
   "pygments_lexer": "ipython3",
   "version": "3.7.1"
  }
 },
 "nbformat": 4,
 "nbformat_minor": 2
}
